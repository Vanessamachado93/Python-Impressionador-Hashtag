{
 "cells": [
  {
   "cell_type": "markdown",
   "metadata": {},
   "source": [
    "# Exercícios\n",
    "\n",
    "## 1. Calculando % de uma lista\n",
    "\n",
    "Faremos algo parecido com \"filtrar\" uma lista. Mais pra frente no curso aprenderemos outras formas de fazer isso, mas com o nosso conhecimentoa atual já conseguimos resolver o desafio.\n",
    "\n",
    "Digamos que a gente tenha uma lista de vendedores e ao invés de saber todos os vendedores que bateram a meta, eu quero conseguir calcular o % de vendedores que bateram a meta. Ou seja, se temos 10 vendedores e 3 bateram a meta, temos 30% dos vendedores que bateram a meta."
   ]
  },
  {
   "cell_type": "code",
   "execution_count": 3,
   "metadata": {},
   "outputs": [],
   "source": [
    "meta = 10000\n",
    "vendas = [\n",
    "    ['João', 15000],\n",
    "    ['Julia', 27000],\n",
    "    ['Marcus', 9900],\n",
    "    ['Maria', 3750],\n",
    "    ['Ana', 10300],\n",
    "    ['Alon', 7870],\n",
    "]\n",
    "#seu código aqui"
   ]
  },
  {
   "cell_type": "markdown",
   "metadata": {},
   "source": [
    "- Vamos resolver de 2 formas:\n",
    "    1. Criando uma lista auxiliar apenas com os vendedores que bateram a meta\n",
    "    2. Fazendo o cálculo diretamente na lista que já temos"
   ]
  },
  {
   "cell_type": "code",
   "execution_count": 4,
   "metadata": {},
   "outputs": [
    {
     "name": "stdout",
     "output_type": "stream",
     "text": [
      "50% vendedores que bateram a meta\n",
      "[['João', 15000], ['Julia', 27000], ['Ana', 10300]]\n"
     ]
    }
   ],
   "source": [
    "#Criando lista auxiliar\n",
    "\n",
    "acima_meta = []\n",
    "for venda in vendas:\n",
    "    if venda[1] >= meta:\n",
    "        acima_meta.append(venda)\n",
    "print('{:.0%} vendedores que bateram a meta'.format(len(acima_meta) / len(vendas)))\n",
    "print(acima_meta)"
   ]
  },
  {
   "cell_type": "code",
   "execution_count": 5,
   "metadata": {},
   "outputs": [
    {
     "name": "stdout",
     "output_type": "stream",
     "text": [
      "50% vendedores que bateram a meta\n"
     ]
    }
   ],
   "source": [
    "#Cálculo diretamente na lista\n",
    "\n",
    "quantidade_vendedores_acima = 0\n",
    "\n",
    "for venda in vendas:\n",
    "    if venda[1] >= meta:\n",
    "        quantidade_vendedores_acima += 1\n",
    "print('{:.0%} vendedores que bateram a meta'.format(quantidade_vendedores_acima / len(vendas)))\n"
   ]
  },
  {
   "cell_type": "markdown",
   "metadata": {},
   "source": [
    "## Para treinar uma estrutura parecida, crie um código para responder: quem foi o vendedor que mais vendeu?"
   ]
  },
  {
   "cell_type": "code",
   "execution_count": 7,
   "metadata": {},
   "outputs": [
    {
     "name": "stdout",
     "output_type": "stream",
     "text": [
      "O melhor vendedor foi Julia com 27000 vendas\n"
     ]
    }
   ],
   "source": [
    "#seu código aqui\n",
    "melhor_vendedor = ''\n",
    "maior_vendas = 0\n",
    "\n",
    "for venda in vendas:\n",
    "    if venda[1] > maior_vendas:\n",
    "        maior_vendas = venda[1]\n",
    "        melhor_vendedor = venda[0]\n",
    "print('O melhor vendedor foi {} com {} vendas'. format(melhor_vendedor, maior_vendas))\n"
   ]
  }
 ],
 "metadata": {
  "kernelspec": {
   "display_name": "Python 3",
   "language": "python",
   "name": "python3"
  },
  "language_info": {
   "codemirror_mode": {
    "name": "ipython",
    "version": 3
   },
   "file_extension": ".py",
   "mimetype": "text/x-python",
   "name": "python",
   "nbconvert_exporter": "python",
   "pygments_lexer": "ipython3",
   "version": "3.10.6"
  }
 },
 "nbformat": 4,
 "nbformat_minor": 4
}

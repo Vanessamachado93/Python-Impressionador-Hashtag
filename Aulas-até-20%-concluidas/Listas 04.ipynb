{
 "cells": [
  {
   "cell_type": "markdown",
   "metadata": {},
   "source": [
    "# Adicionar e Remover itens de uma lista\n",
    "\n",
    "Adicionar:<br>\n",
    "lista.append(item)\n",
    "\n",
    "Remover:<br>\n",
    "item_removido = lista.pop(indice)<br>\n",
    "lista.remove(item)\n",
    "\n",
    "Digamos que você está construindo o controle de produtos da Apple.<br>\n",
    "E a Apple lançou o IPhone 11 e irá tirar dos seus estoques o IPhone X"
   ]
  },
  {
   "cell_type": "code",
   "execution_count": 6,
   "metadata": {},
   "outputs": [
    {
     "name": "stdout",
     "output_type": "stream",
     "text": [
      "['apple tv', 'mac', 'iphone x', 'IPad', 'apple watch', 'mac book', 'airpods', 'iphone 11']\n",
      "['apple tv', 'mac', 'iphone x', 'apple watch', 'mac book', 'airpods', 'iphone 11']\n",
      "IPad\n",
      "['apple tv', 'mac', 'iphone x', 'apple watch', 'airpods', 'iphone 11']\n"
     ]
    }
   ],
   "source": [
    "produtos = ['apple tv', 'mac', 'iphone x', 'IPad', 'apple watch', 'mac book', 'airpods']\n",
    "\n",
    "# Adicionar produtos\n",
    "\n",
    "produtos.append('iphone 11')\n",
    "print(produtos)\n",
    "\n",
    "# Remover produtos\n",
    "\n",
    "itens_removido = produtos.pop(3)\n",
    "print(produtos)\n",
    "print(itens_removido)\n",
    "\n",
    "produtos.remove('mac book')\n",
    "print(produtos)\n",
    "\n",
    "\n",
    "produto_remover = 'airpods'\n",
    "\n",
    "if produto_remover in produtos:\n",
    "    produtos.remove(produto_remover)\n",
    "else:\n",
    "    print('{} não existe na nossa lista de produtos'.format(produto_remover))"
   ]
  },
  {
   "cell_type": "markdown",
   "metadata": {},
   "source": [
    "## Existem 2 formas de tratar o erro:\n",
    "\n",
    "1. Criar um if para evitar que ele aconteça\n",
    "\n",
    "2. Esperar que ele possa acontecer e tratar caso o erro aconteça com:"
   ]
  },
  {
   "cell_type": "code",
   "execution_count": 10,
   "metadata": {},
   "outputs": [
    {
     "name": "stdout",
     "output_type": "stream",
     "text": [
      " não existe na lista de produtos \n"
     ]
    }
   ],
   "source": [
    "try:\n",
    "    produtos.remove('iphone x')\n",
    "    print(produtos)\n",
    "except:\n",
    "   print(' não existe na lista de produtos ')"
   ]
  },
  {
   "cell_type": "code",
   "execution_count": null,
   "metadata": {},
   "outputs": [],
   "source": []
  }
 ],
 "metadata": {
  "kernelspec": {
   "display_name": "Python 3",
   "language": "python",
   "name": "python3"
  },
  "language_info": {
   "codemirror_mode": {
    "name": "ipython",
    "version": 3
   },
   "file_extension": ".py",
   "mimetype": "text/x-python",
   "name": "python",
   "nbconvert_exporter": "python",
   "pygments_lexer": "ipython3",
   "version": "3.10.6"
  },
  "vscode": {
   "interpreter": {
    "hash": "916dbcbb3f70747c44a77c7bcd40155683ae19c65e1c03b4aa3499c5328201f1"
   }
  }
 },
 "nbformat": 4,
 "nbformat_minor": 4
}

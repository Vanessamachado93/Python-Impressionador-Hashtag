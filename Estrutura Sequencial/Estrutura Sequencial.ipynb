{
 "cells": [
  {
   "cell_type": "markdown",
   "id": "bb0f9514",
   "metadata": {},
   "source": [
    "# Lista de Estrutura Sequencial"
   ]
  },
  {
   "cell_type": "markdown",
   "id": "4e7a8c30",
   "metadata": {},
   "source": [
    "#### 1. Faça um Programa que mostre a mensagem (print) \"Alo mundo\" na tela."
   ]
  },
  {
   "cell_type": "code",
   "execution_count": 1,
   "id": "883bfe85",
   "metadata": {},
   "outputs": [
    {
     "name": "stdout",
     "output_type": "stream",
     "text": [
      "Alo mundo\n"
     ]
    }
   ],
   "source": [
    "print(\"Alo mundo\")"
   ]
  },
  {
   "cell_type": "markdown",
   "id": "71d6d6a2",
   "metadata": {},
   "source": [
    "#### 2. Faça um Programa que peça um número (input) e então mostre a mensagem: \"O número informado foi [número].\""
   ]
  },
  {
   "cell_type": "code",
   "execution_count": 2,
   "id": "30cfffcf",
   "metadata": {},
   "outputs": [
    {
     "name": "stdout",
     "output_type": "stream",
     "text": [
      "O numero informado foi 30\n"
     ]
    }
   ],
   "source": [
    "numero = int(input(\"Informe um numero inteiro:\"))\n",
    "\n",
    "print(f\"O numero informado foi {numero}\")"
   ]
  },
  {
   "cell_type": "markdown",
   "id": "c5e43160",
   "metadata": {},
   "source": [
    "#### 3. Faça um Programa que peça dois números e imprima a soma."
   ]
  },
  {
   "cell_type": "code",
   "execution_count": 4,
   "id": "b0e79590",
   "metadata": {},
   "outputs": [
    {
     "name": "stdout",
     "output_type": "stream",
     "text": [
      "A soma dos números é: 70\n"
     ]
    }
   ],
   "source": [
    "numero_um = int(input(\"Informe um numero inteiro:\"))\n",
    "numero_dois = int(input(\"Informe outro inteiro:\"))\n",
    "\n",
    "print(f\"A soma dos números é: {numero_um + numero_dois}\")"
   ]
  },
  {
   "cell_type": "markdown",
   "id": "17826987",
   "metadata": {},
   "source": [
    "#### 4. Faça um Programa que peça as 4 notas bimestrais de um aluno e mostre a média de todas as notas."
   ]
  },
  {
   "cell_type": "code",
   "execution_count": 11,
   "id": "23b66762",
   "metadata": {},
   "outputs": [
    {
     "name": "stdout",
     "output_type": "stream",
     "text": [
      "A média é:  7.85\n"
     ]
    }
   ],
   "source": [
    "nota_01 = float(input(\"Qual a nota do primeiro bimestre?\"))\n",
    "nota_02 = float(input(\"Qual a nota do segundo bimestre? \"))\n",
    "nota_03 = float(input(\"Qual a nota do terceiro bimestre?\"))\n",
    "nota_04 = float(input(\"Qual a nota do primeiro bimestre?\"))\n",
    "\n",
    "media = (nota_01 + nota_02 + nota_03 + nota_04) / 4\n",
    "print(\"A média é: \", media)\n"
   ]
  },
  {
   "cell_type": "markdown",
   "id": "62d461c5",
   "metadata": {},
   "source": [
    "#### 5. Faça um Programa que converta metros para centímetros. Você pode pedir o comprimento em metros para o usuário (input)."
   ]
  },
  {
   "cell_type": "code",
   "execution_count": 16,
   "id": "d642f1ba",
   "metadata": {},
   "outputs": [
    {
     "name": "stdout",
     "output_type": "stream",
     "text": [
      "Este comprimento em centímetros é: 4000.0 cm\n"
     ]
    }
   ],
   "source": [
    "comprimento_metros = float(input('Informe um comprimento em metros: '))\n",
    "comprimento_cm = comprimento_metros * 100\n",
    "print('Este comprimento em centímetros é:', comprimento_cm, 'cm') "
   ]
  },
  {
   "cell_type": "markdown",
   "id": "f1311697",
   "metadata": {},
   "source": [
    "#### 7. Faça um Programa que calcule a área de uma sala de um apartamento. Para isso, o seu programa precisa pedir a largura da sala, o comprimento da sala e imprimir a área em m² da sala."
   ]
  },
  {
   "cell_type": "code",
   "execution_count": 4,
   "id": "612ea24b",
   "metadata": {},
   "outputs": [
    {
     "name": "stdout",
     "output_type": "stream",
     "text": [
      "A area da sala;  22.619999999999997\n"
     ]
    }
   ],
   "source": [
    "largura_sala = float(input(\"Qual a largura da parede da sala? \"))\n",
    "comprimento_sala = float(input(\"Comprimento da sala?\"))\n",
    "\n",
    "area_m2 = largura_sala * comprimento_sala\n",
    "print(\"A area da sala; \", area_m2)"
   ]
  },
  {
   "cell_type": "markdown",
   "id": "2a285929",
   "metadata": {},
   "source": [
    "#### 8. Faça um Programa que pergunte quanto você ganha por hora e o número de horas trabalhadas no mês. Calcule e mostre o total do seu salário no referido mês."
   ]
  },
  {
   "cell_type": "code",
   "execution_count": 8,
   "id": "359e2232",
   "metadata": {},
   "outputs": [
    {
     "name": "stdout",
     "output_type": "stream",
     "text": [
      "O valor da remuneração total do mês: R$ 6358.0\n"
     ]
    }
   ],
   "source": [
    "horas = float(input(\"Quantas horas vc trabalha no mês?\"))\n",
    "reais_horas = float(input(\"Qual o valor por hora?\"))\n",
    "\n",
    "total_salario = horas * reais_horas\n",
    "print(\"O valor da remuneração total do mês: R$\", total_salario)"
   ]
  },
  {
   "cell_type": "markdown",
   "id": "7e2d4615",
   "metadata": {},
   "source": [
    "#### 9. Vamos criar um conversor de temperatura. Faça um Programa que peça a temperatura em graus Fahrenheit, transforme e mostre a temperatura em graus Celsius.\n",
    "$C = \\frac{5}{9}(F-32)$"
   ]
  },
  {
   "cell_type": "code",
   "execution_count": 7,
   "id": "82daf9fd",
   "metadata": {},
   "outputs": [
    {
     "name": "stdout",
     "output_type": "stream",
     "text": [
      "A temperatura é: 32.22222222222222 °C\n"
     ]
    }
   ],
   "source": [
    "temperatura_f = float(input('Informe a temperatura em Fahrenheit: '))\n",
    "temperatura_c = (5/9) * (temperatura_f - 32)\n",
    "print('A temperatura é:', temperatura_c, '°C')"
   ]
  },
  {
   "cell_type": "markdown",
   "id": "20708b1c",
   "metadata": {},
   "source": [
    "#### 10. Faça um Programa que peça a temperatura em graus Celsius, transforme e mostre em graus Fahrenheit.\n",
    "$F = \\frac{9}{5}C + 32$"
   ]
  },
  {
   "cell_type": "code",
   "execution_count": 2,
   "id": "c73cfb38",
   "metadata": {},
   "outputs": [
    {
     "name": "stdout",
     "output_type": "stream",
     "text": [
      "A temperatura é: 122.0 °F\n"
     ]
    }
   ],
   "source": [
    "temperatura_c = float(input('Informe a temperatura em Celsius: '))\n",
    "temperatura_f = 9/5 * temperatura_c + 32\n",
    "print('A temperatura é:', temperatura_f, '°F')"
   ]
  },
  {
   "cell_type": "markdown",
   "id": "b263a9dc",
   "metadata": {},
   "source": [
    "#### 12. Tendo como dados de entrada a altura (h) de uma pessoa, construa um algoritmo que calcule seu peso ideal, usando a seguinte fórmula:\n",
    "$P = 72,7h - 58$\n",
    "\n",
    "Lembrando que \"algoritmo\" nada mais é do que um programa, como todos os outros que você vem fazendo"
   ]
  },
  {
   "cell_type": "code",
   "execution_count": 4,
   "id": "9a9b8dca",
   "metadata": {},
   "outputs": [
    {
     "name": "stdout",
     "output_type": "stream",
     "text": [
      "O seu peso ideal é:  69.22500000000001\n"
     ]
    }
   ],
   "source": [
    "altura = float(input(\"Qual seu altura:\"))\n",
    "\n",
    "peso_ideal = 72.7 * altura - 58\n",
    "print(\"O seu peso ideal é: \", peso_ideal)"
   ]
  },
  {
   "cell_type": "markdown",
   "id": "13bb40d7",
   "metadata": {},
   "source": [
    "#### 13. Tendo como dado de entrada a altura (h) de uma pessoa, construa um algoritmo que calcule seu peso ideal, utilizando as seguintes fórmulas:\n",
    "##### a. Para homens: $P = 72,7h - 58$\n",
    "##### b. Para mulheres: $P = 62,1h - 44,7$"
   ]
  },
  {
   "cell_type": "code",
   "execution_count": 5,
   "id": "bf82dc8c",
   "metadata": {},
   "outputs": [
    {
     "name": "stdout",
     "output_type": "stream",
     "text": [
      "Peso ideal para os homens:  69.22500000000001 KG\n",
      "Peso ideal para os mulheres:  63.904999999999994 KG\n"
     ]
    }
   ],
   "source": [
    "altura = float(input(\"Qual a sua altura?\"))\n",
    "\n",
    "peso_ideal_homens = 72.7 * altura - 58\n",
    "peso_ideal_mulheres = 62.1 * altura - 44.77\n",
    "\n",
    "print(\"Peso ideal para os homens: \", peso_ideal_homens,\"KG\")\n",
    "print(\"Peso ideal para os mulheres: \", peso_ideal_mulheres,\"KG\")"
   ]
  },
  {
   "cell_type": "markdown",
   "id": "f208ef89",
   "metadata": {},
   "source": [
    "#### 15. Faça um Programa que pergunte quanto você ganha por hora e o número de horas trabalhadas no mês."
   ]
  },
  {
   "cell_type": "code",
   "execution_count": 7,
   "id": "2d5b23e0",
   "metadata": {},
   "outputs": [
    {
     "name": "stdout",
     "output_type": "stream",
     "text": [
      "Trabalha total de horas 30.9 e a sua remuneração do mês 6798.0\n"
     ]
    }
   ],
   "source": [
    "valor_hora = float(input(\"Qual a sua remuneração por hora?\"))\n",
    "horas_mes = float(input(\"Quantas horas vc trabalha por mês?\"))\n",
    "\n",
    "print(f\"Trabalha total de horas {valor_hora} e a sua remuneração do mês R${valor_hora * horas_mes}\")\n"
   ]
  },
  {
   "cell_type": "markdown",
   "id": "607dee3c",
   "metadata": {},
   "source": [
    "#####  Calcule o salário bruto (horas * salario por hora)"
   ]
  },
  {
   "cell_type": "code",
   "execution_count": 8,
   "id": "7f80ccbb",
   "metadata": {},
   "outputs": [
    {
     "name": "stdout",
     "output_type": "stream",
     "text": [
      "O salário bruto é: R$ 6710.0\n"
     ]
    }
   ],
   "source": [
    "horas = 220\n",
    "salario_hora = 30.5\n",
    "\n",
    "salario_bruto = horas * salario_hora\n",
    "print(\"O salário bruto é: R$\", salario_bruto)"
   ]
  },
  {
   "cell_type": "markdown",
   "id": "2ed93cb0",
   "metadata": {},
   "source": [
    "##### Calcule o desconto do IR (11% do salário bruto)"
   ]
  },
  {
   "cell_type": "code",
   "execution_count": 12,
   "id": "3363e22f",
   "metadata": {},
   "outputs": [
    {
     "name": "stdout",
     "output_type": "stream",
     "text": [
      "O desconto do IR é R$ 738.0758000000001\n"
     ]
    }
   ],
   "source": [
    "ir = 0.11 * salario_bruto\n",
    "print(f'O desconto do IR é R$ {ir}')"
   ]
  },
  {
   "cell_type": "markdown",
   "id": "0994b2c0",
   "metadata": {},
   "source": [
    "##### Calcule o desconto do INSS (8% do salário bruto)"
   ]
  },
  {
   "cell_type": "code",
   "execution_count": 14,
   "id": "748c6088",
   "metadata": {},
   "outputs": [
    {
     "name": "stdout",
     "output_type": "stream",
     "text": [
      "O desconto do INSS é R$ 536.7824\n"
     ]
    }
   ],
   "source": [
    "inss = 0.08 * salario_bruto\n",
    "print(f\"O desconto do INSS é R$ {inss}\")"
   ]
  },
  {
   "cell_type": "markdown",
   "id": "06e8dae4",
   "metadata": {},
   "source": [
    "##### Calcule o desconto do sindicato (5% do salário bruto)"
   ]
  },
  {
   "cell_type": "code",
   "execution_count": 15,
   "id": "21b95b15",
   "metadata": {
    "scrolled": true
   },
   "outputs": [
    {
     "name": "stdout",
     "output_type": "stream",
     "text": [
      "O desconto do sindicato é R$ 335.48900000000003\n"
     ]
    }
   ],
   "source": [
    "sindicato = 0.05 * salario_bruto\n",
    "print(f\"O desconto do sindicato é R$ {sindicato}\")"
   ]
  },
  {
   "cell_type": "markdown",
   "id": "bb14ce36",
   "metadata": {},
   "source": [
    "##### Calcule o salário líquido (salário bruto - descontos)"
   ]
  },
  {
   "cell_type": "code",
   "execution_count": 19,
   "id": "56317086",
   "metadata": {},
   "outputs": [
    {
     "name": "stdout",
     "output_type": "stream",
     "text": [
      "O salario liquido é R$ 5099.4328000000005\n"
     ]
    }
   ],
   "source": [
    "salario_liquido = salario_bruto - ir - inss - sindicato\n",
    "print(f\"O salario liquido é R$ {salario_liquido}\")"
   ]
  },
  {
   "cell_type": "markdown",
   "id": "cfbfcc87",
   "metadata": {},
   "source": [
    "#### 16. Faça um programa para uma loja de tintas. O programa deverá pedir o tamanho em metros quadrados da área a ser pintada. Considere que a cobertura da tinta é de 1 litro para cada 3 metros quadrados e que a tinta é vendida em latas de 18 litros, que custam R\\$ 80,00. Informe ao usuário a quantidades de latas de tinta a serem compradas e o preço total. (para simplificação nesse momento, não se preocupe em arredondar a quantidade de latas a serem compradas - vamos trabalhar isso em breve)"
   ]
  },
  {
   "cell_type": "code",
   "execution_count": 21,
   "id": "fb6a083b",
   "metadata": {},
   "outputs": [
    {
     "name": "stdout",
     "output_type": "stream",
     "text": [
      "Serão necessárias 0.0925925925925926 latas, custando R$ 7.407407407407408 no total\n"
     ]
    }
   ],
   "source": [
    "area = float(input(\"Qual o tamanho da area para ser pintada?\"))\n",
    "\n",
    "litros_tinta = area / 3\n",
    "\n",
    "latas = litros_tinta / 18\n",
    "\n",
    "preco = latas * 80\n",
    "\n",
    "print(f'Serão necessárias {latas} latas, custando R$ {preco} no total')\n",
    "\n"
   ]
  },
  {
   "cell_type": "markdown",
   "id": "d6503c92",
   "metadata": {},
   "source": [
    "#### 18. Faça um programa que peça o tamanho de um arquivo para download (em MB) e a velocidade de um link de Internet (em Mbps), calcule e informe o tempo aproximado de download do arquivo usando este link (em minutos).\n",
    "\n",
    "Detalhe: MB significa megabyte, Mb (com b minúsculo) significa megabit. Um megabit é 1/8 de um megabyte. "
   ]
  },
  {
   "cell_type": "code",
   "execution_count": 22,
   "id": "0563aa62",
   "metadata": {},
   "outputs": [
    {
     "name": "stdout",
     "output_type": "stream",
     "text": [
      "O tempo de download é de 0.006666666666666667 minutos\n"
     ]
    }
   ],
   "source": [
    "tamanho = float(input('Informe o tamanho do arquivo em MB: '))\n",
    "velocidade = float(input('Informe a velocidade da conexão em Mbps: '))\n",
    "\n",
    "tamanho_megabits = tamanho * 8\n",
    "\n",
    "tempo = tamanho_megabits / velocidade\n",
    "tempo_minutos = tempo / 60\n",
    "print(f'O tempo de download é de {tempo_minutos} minutos')"
   ]
  }
 ],
 "metadata": {
  "kernelspec": {
   "display_name": "Python 3",
   "language": "python",
   "name": "python3"
  },
  "language_info": {
   "codemirror_mode": {
    "name": "ipython",
    "version": 3
   },
   "file_extension": ".py",
   "mimetype": "text/x-python",
   "name": "python",
   "nbconvert_exporter": "python",
   "pygments_lexer": "ipython3",
   "version": "3.10.6"
  },
  "vscode": {
   "interpreter": {
    "hash": "916dbcbb3f70747c44a77c7bcd40155683ae19c65e1c03b4aa3499c5328201f1"
   }
  }
 },
 "nbformat": 4,
 "nbformat_minor": 5
}

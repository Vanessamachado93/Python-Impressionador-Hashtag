{
 "cells": [
  {
   "cell_type": "markdown",
   "id": "4e5fa91b",
   "metadata": {},
   "source": [
    "### Forma Básica"
   ]
  },
  {
   "cell_type": "code",
   "execution_count": 3,
   "id": "fba45682",
   "metadata": {},
   "outputs": [
    {
     "name": "stdout",
     "output_type": "stream",
     "text": [
      "25\n"
     ]
    }
   ],
   "source": [
    "precos = \"Jan: 25, Fev: 27, Mar: 29\"\n",
    "preco_jan= precos[5:7] #os :  significa até, e quando não passa nada no inicio pega do começo.\n",
    "print(preco_jan)\n"
   ]
  },
  {
   "cell_type": "markdown",
   "id": "afe5dc17",
   "metadata": {},
   "source": [
    "### Posição Inicial e Final"
   ]
  },
  {
   "cell_type": "code",
   "execution_count": 7,
   "id": "c3488405",
   "metadata": {},
   "outputs": [
    {
     "name": "stdout",
     "output_type": "stream",
     "text": [
      "29\n",
      "27\n"
     ]
    }
   ],
   "source": [
    "preco_mar = precos[-2:]\n",
    "print(preco_mar)\n",
    "\n",
    "preco_fev = precos[14:16]\n",
    "print(preco_fev)\n",
    "\n",
    "preco_mar_fev2 = precos[-11:-9]"
   ]
  },
  {
   "cell_type": "markdown",
   "metadata": {},
   "source": []
  },
  {
   "cell_type": "markdown",
   "id": "bca6dfd4",
   "metadata": {},
   "source": [
    "### Posição Inicial e Final com Step"
   ]
  },
  {
   "cell_type": "code",
   "execution_count": 10,
   "id": "981224c2",
   "metadata": {},
   "outputs": [
    {
     "name": "stdout",
     "output_type": "stream",
     "text": [
      "2345\n"
     ]
    }
   ],
   "source": [
    "codigo = \"1.2.3.4,5,1,2.3.4,7.9\" #SETP de quanto em quanto que vou pegar.\n",
    "pedaco_cod = codigo[2:10:2]\n",
    "print(pedaco_cod)"
   ]
  },
  {
   "cell_type": "code",
   "execution_count": null,
   "id": "e134a9b3",
   "metadata": {},
   "outputs": [],
   "source": []
  }
 ],
 "metadata": {
  "kernelspec": {
   "display_name": "Python 3",
   "language": "python",
   "name": "python3"
  },
  "language_info": {
   "codemirror_mode": {
    "name": "ipython",
    "version": 3
   },
   "file_extension": ".py",
   "mimetype": "text/x-python",
   "name": "python",
   "nbconvert_exporter": "python",
   "pygments_lexer": "ipython3",
   "version": "3.10.6"
  },
  "vscode": {
   "interpreter": {
    "hash": "916dbcbb3f70747c44a77c7bcd40155683ae19c65e1c03b4aa3499c5328201f1"
   }
  }
 },
 "nbformat": 4,
 "nbformat_minor": 5
}

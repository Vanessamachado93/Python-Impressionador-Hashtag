{
 "cells": [
  {
   "cell_type": "markdown",
   "id": "677c85ea",
   "metadata": {},
   "source": [
    "### 1- Imposto a pagar no Lucro Presumido\n",
    "\n",
    "- 5% sobre faturamento de ISS (mensal)\n",
    "- 0,65% de PIS sobre faturamento, (mensal)\n",
    "- 3% de COFINS sobre faturmaneto, (mensal)\n",
    "- 4.8% de IR (trimestral)\n",
    "- 10% de IR Adicional sobre o que ultrapassar 20mil do faturamento (trimestral)\n",
    "- CSLL: 2,88% sobre faturamento (trimestral)"
   ]
  },
  {
   "cell_type": "code",
   "execution_count": null,
   "id": "aa56f2ec",
   "metadata": {},
   "outputs": [],
   "source": [
    "faturamento = {\n",
    "    'jan': 'R$ 95.141,98',\n",
    "    'fev': 'R$ 95.425,16',\n",
    "    'mar': 'R$ 89.716,31',\n",
    "    'abr': 'R$ 78.459,99',\n",
    "    'mai': 'R$ 71.087,28',\n",
    "    'jun': 'R$ 83.911,06',\n",
    "    'jul': 'R$ 56.467,26',\n",
    "    'ago': 'R$ 88.513,58',\n",
    "    'set': 'R$ 66.552,49',\n",
    "    'out': 'R$ 80.164,07',\n",
    "    'nov': 'R$ 66.964,33',\n",
    "    'dez': 'R$ 71.525,25',\n",
    "}\n",
    "\n",
    "# você precisa inserir no sistema um dicionário no formato:\n",
    "\n",
    "# resultado = {\n",
    "#     'mes': (faturamento, imposto_mensal, imposto_trimestral),\n",
    "# }"
   ]
  },
  {
   "cell_type": "markdown",
   "id": "9718fa37",
   "metadata": {},
   "source": [
    "### 2 - Puxando informações de um banco de Dados"
   ]
  },
  {
   "cell_type": "code",
   "execution_count": null,
   "id": "dcdf9001",
   "metadata": {},
   "outputs": [],
   "source": [
    "# puxando informações SQL de um banco de dados\n",
    "informacoes = [(1, 'NATHANIEL FORD', 'GENERAL MANAGER-METROPOLITAN TRANSIT AUTHORITY', 167411.18, 0.0, 400184.25, None, 567595.43, 567595.43, 2011, '', 'San Francisco', ''), (2, 'GARY JIMENEZ', 'CAPTAIN III (POLICE DEPARTMENT)', 155966.02, 245131.88, 137811.38, None, 538909.28, 538909.28, 2011, '', 'San Francisco', ''), (3, 'ALBERT PARDINI', 'CAPTAIN III (POLICE DEPARTMENT)', 212739.13, 106088.18, 16452.6, None, 335279.91, 335279.91, 2011, '', 'San Francisco', ''), (4, 'CHRISTOPHER CHONG', 'WIRE ROPE CABLE MAINTENANCE MECHANIC', 77916.0, 56120.71, 198306.9, None, 332343.61, 332343.61, 2011, '', 'San Francisco', ''), (5, 'PATRICK GARDNER', 'DEPUTY CHIEF OF DEPARTMENT,(FIRE DEPARTMENT)', 134401.6, 9737.0, 182234.59, None, 326373.19, 326373.19, 2011, '', 'San Francisco', ''), (6, 'DAVID SULLIVAN', 'ASSISTANT DEPUTY CHIEF II', 118602.0, 8601.0, 189082.74, None, 316285.74, 316285.74, 2011, '', 'San Francisco', ''), (7, 'ALSON LEE', 'BATTALION CHIEF, (FIRE DEPARTMENT)', 92492.01, 89062.9, 134426.14, None, 315981.05, 315981.05, 2011, '', 'San Francisco', ''), (8, 'DAVID KUSHNER', 'DEPUTY DIRECTOR OF INVESTMENTS', 256576.96, 0.0, 51322.5, None, 307899.46, 307899.46, 2011, '', 'San Francisco', ''), (9, 'MICHAEL MORRIS', 'BATTALION CHIEF, (FIRE DEPARTMENT)', 176932.64, 86362.68, 40132.23, None, 303427.55, 303427.55, 2011, '', 'San Francisco', ''), (10, 'JOANNE HAYES-WHITE', 'CHIEF OF DEPARTMENT, (FIRE DEPARTMENT)', 285262.0, 0.0, 17115.73, None, 302377.73, 302377.73, 2011, '', 'San Francisco', '')]\n",
    "descricao = (('Id', \"<class 'int'>\", None, 10, 10, 0, True), ('EmployeeName', \"<class 'str'>\", None, 65536, 65536, 0, True), ('JobTitle', \"<class 'str'>\", None, 65536, 65536, 0, True), ('BasePay', \"<class 'float'>\", None, 54, 54, 0, True), ('OvertimePay', \"<class 'float'>\", None, 54, 54, 0, True), ('OtherPay', \"<class 'float'>\", None, 54, 54, 0, True), ('Benefits', \"<class 'float'>\", None, 54, 54, 0, True), ('TotalPay', \"<class 'float'>\", None, 54, 54, 0, True), ('TotalPayBenefits', \"<class 'float'>\", None, 54, 54, 0, True), ('Year', \"<class 'int'>\", None, 10, 10, 0, True), ('Notes', \"<class 'str'>\", None, 65536, 65536, 0, True), ('Agency', \"<class 'str'>\", None, 65536, 65536, 0, True), ('Status', \"<class 'str'>\", None, 65536, 65536, 0, True))\n",
    "\n",
    "# precisamos 1º de uma lista com o nome das colunas para poder organizar as colunas da nossa tabela:\n",
    "# o nome das colunas está na variável descrição, dê uma olhada.\n",
    "\n",
    "import pandas as pd\n",
    "\n",
    "tabela = pd.DataFrame.from_records(informacoes)\n",
    "# para acertar nossa tabela, vamos precisar fazer:\n",
    "# tabela = pd.DataFrame.from_records(informacoes, columns=colunas) # onde colunas é uma lista com o nome das colunas\n",
    "display(tabela)\n",
    "\n",
    "\n",
    "# além disso, precisamos enviar por e-mail para o RH uma lista com o nome e o cargo de cada pessoa da tabela \n",
    "# então você precisa construir o texto do corpo desse email do tipo:\n",
    "\n",
    "# texto = \"\"\"\n",
    "# RH, segue a lista dos funcionários:\n",
    "# Fulano, Cargo: tal\n",
    "# Beltrano, Cargo: isso\n",
    "# \"\"\""
   ]
  },
  {
   "cell_type": "markdown",
   "id": "e9843750",
   "metadata": {},
   "source": [
    "### 3 - Extração dos links de Download de Vídeos do Vimeo\n",
    "\n",
    "- Precisamos pegar os links em 1080p, 720p e 540p para importar os vídeos para uma nova plataforma"
   ]
  },
  {
   "cell_type": "code",
   "execution_count": null,
   "id": "6c712a8f",
   "metadata": {},
   "outputs": [],
   "source": [
    "# para pegar o dicionario do vimeo, use:\n",
    "from dic import dicionario_vimeo\n",
    "\n",
    "\n",
    "# você precisa chegar em:\n",
    "# videos = [\n",
    "#     {'uri': video_uri, 'nome': nome_video, 'duracao': duracao, 'link540p': link540p, 'link720p': link720p, 'link1080p': link1080p},\n",
    "# ]"
   ]
  }
 ],
 "metadata": {
  "kernelspec": {
   "display_name": "Python 3 (ipykernel)",
   "language": "python",
   "name": "python3"
  },
  "language_info": {
   "codemirror_mode": {
    "name": "ipython",
    "version": 3
   },
   "file_extension": ".py",
   "mimetype": "text/x-python",
   "name": "python",
   "nbconvert_exporter": "python",
   "pygments_lexer": "ipython3",
   "version": "3.9.7"
  }
 },
 "nbformat": 4,
 "nbformat_minor": 5
}

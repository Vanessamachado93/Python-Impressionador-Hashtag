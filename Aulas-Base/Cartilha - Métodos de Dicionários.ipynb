{
 "cells": [
  {
   "cell_type": "markdown",
   "metadata": {},
   "source": [
    "# Métodos Específicos de Dicionário"
   ]
  },
  {
   "cell_type": "markdown",
   "metadata": {},
   "source": [
    "- clear() -> Deleta todos os elementos do Dicionário (semelhante ao que aprendemos em listas)"
   ]
  },
  {
   "cell_type": "code",
   "execution_count": 11,
   "metadata": {},
   "outputs": [
    {
     "name": "stdout",
     "output_type": "stream",
     "text": [
      "{}\n"
     ]
    }
   ],
   "source": [
    "vendas_mes = {'jan': 150, 'fev': 100, 'mar': 190}\n",
    "vendas_mes.clear()\n",
    "print(vendas_mes)"
   ]
  },
  {
   "cell_type": "markdown",
   "metadata": {},
   "source": [
    "- copy() -> Cria uma cópia do dicionário (semelhante ao que aprendemos em listas)"
   ]
  },
  {
   "cell_type": "code",
   "execution_count": 12,
   "metadata": {},
   "outputs": [
    {
     "name": "stdout",
     "output_type": "stream",
     "text": [
      "{'jan': 150, 'fev': 100, 'mar': 190}\n"
     ]
    }
   ],
   "source": [
    "vendas_mes = {'jan': 150, 'fev': 100, 'mar': 190}\n",
    "vendas2_mes = vendas_mes.copy()\n",
    "print(vendas2_mes)"
   ]
  },
  {
   "cell_type": "markdown",
   "metadata": {},
   "source": [
    "- fromkeys(chaves, valor_padrao) -> Cria um dicionário com as chaves e o mesmo valor padrão para todas as chaves"
   ]
  },
  {
   "cell_type": "code",
   "execution_count": 1,
   "metadata": {},
   "outputs": [
    {
     "name": "stdout",
     "output_type": "stream",
     "text": [
      "{'jan': 100, 'fev': 100, 'mar': 100}\n"
     ]
    }
   ],
   "source": [
    "chaves = ('jan', 'fev', 'mar')\n",
    "vendas = 100\n",
    "vendas_mes = dict.fromkeys(chaves, vendas)\n",
    "print(vendas_mes)"
   ]
  },
  {
   "cell_type": "markdown",
   "metadata": {},
   "source": [
    "- get(chave) -> \tRetorna o valor especificado pela chave (Semelhante a fazer dictionario[chave]"
   ]
  },
  {
   "cell_type": "code",
   "execution_count": 4,
   "metadata": {},
   "outputs": [
    {
     "name": "stdout",
     "output_type": "stream",
     "text": [
      "190\n"
     ]
    }
   ],
   "source": [
    "vendas_mes = {'jan': 150, 'fev': 100, 'mar': 190}\n",
    "print(vendas_mes.get('mar'))"
   ]
  },
  {
   "cell_type": "markdown",
   "metadata": {},
   "source": [
    "- items() -> Retorna uma lista em que cada item é uma tupla com (chave, valor)"
   ]
  },
  {
   "cell_type": "code",
   "execution_count": 14,
   "metadata": {},
   "outputs": [
    {
     "name": "stdout",
     "output_type": "stream",
     "text": [
      "[('jan', 150), ('fev', 100), ('mar', 190)]\n"
     ]
    }
   ],
   "source": [
    "vendas_mes = {'jan': 150, 'fev': 100, 'mar': 190}\n",
    "print(list(vendas_mes.items()))"
   ]
  },
  {
   "cell_type": "markdown",
   "metadata": {},
   "source": [
    "- keys() -> Retorna uma lista com todas as chaves do dicionário"
   ]
  },
  {
   "cell_type": "code",
   "execution_count": 15,
   "metadata": {},
   "outputs": [
    {
     "name": "stdout",
     "output_type": "stream",
     "text": [
      "['jan', 'fev', 'mar']\n"
     ]
    }
   ],
   "source": [
    "vendas_mes = {'jan': 150, 'fev': 100, 'mar': 190}\n",
    "print(list(vendas_mes.keys()))"
   ]
  },
  {
   "cell_type": "markdown",
   "metadata": {},
   "source": [
    "- pop(chave) -> Retira o item do dicionário e retorna o valor dele para ser usado"
   ]
  },
  {
   "cell_type": "code",
   "execution_count": 7,
   "metadata": {},
   "outputs": [
    {
     "name": "stdout",
     "output_type": "stream",
     "text": [
      "{'jan': 150, 'mar': 190}\n",
      "100\n"
     ]
    }
   ],
   "source": [
    "vendas_mes = {'jan': 150, 'fev': 100, 'mar': 190}\n",
    "vendas_fev = vendas_mes.pop('fev') #retira o fevereiro do dicionário ao mesmo tempo que armazena o valor dele na variável\n",
    "print(vendas_mes)\n",
    "print(vendas_fev)"
   ]
  },
  {
   "cell_type": "markdown",
   "metadata": {},
   "source": [
    "- popitem() -> Retira o último item adicionado ao dicionário"
   ]
  },
  {
   "cell_type": "code",
   "execution_count": 9,
   "metadata": {},
   "outputs": [
    {
     "name": "stdout",
     "output_type": "stream",
     "text": [
      "{'jan': 150, 'fev': 100}\n",
      "('mar', 190)\n"
     ]
    }
   ],
   "source": [
    "vendas_mes = {'jan': 150, 'fev': 100, 'mar': 190}\n",
    "#retira o último item adicionado no dicionário ao mesmo tempo que armazena o item(chave, valor) dele na variável\n",
    "vendas_ult = vendas_mes.popitem() \n",
    "print(vendas_mes)\n",
    "print(vendas_ult)"
   ]
  },
  {
   "cell_type": "markdown",
   "metadata": {},
   "source": [
    "- setdefault(chave, valor) -> Retorna o valor da chave passada, mas caso a chave não exista, cria no dicionário o item com a chave e valor passados."
   ]
  },
  {
   "cell_type": "code",
   "execution_count": 10,
   "metadata": {},
   "outputs": [
    {
     "name": "stdout",
     "output_type": "stream",
     "text": [
      "100\n",
      "600\n",
      "{'jan': 150, 'fev': 100, 'mar': 190, 'abr': 600}\n"
     ]
    }
   ],
   "source": [
    "vendas_mes = {'jan': 150, 'fev': 100, 'mar': 190}\n",
    "vendas_fev = vendas_mes.setdefault('fev', 500)\n",
    "print(vendas_fev)\n",
    "#repare que como fevereiro existe na lista, ele procura pelo valor de fevereiro e ignora o 500 passado\n",
    "#agora quando não existe na lista:\n",
    "vendas_abr = vendas_mes.setdefault('abr', 600)\n",
    "#repare que agora além de vendas_abr retornar o 600 como valor, ele adicionou um item no dicionario\n",
    "print(vendas_abr)\n",
    "print(vendas_mes)"
   ]
  },
  {
   "cell_type": "markdown",
   "metadata": {},
   "source": [
    "- update(dicionario) -> Adiciona o dicionário passado como parâmetro ao dicionário original"
   ]
  },
  {
   "cell_type": "code",
   "execution_count": 18,
   "metadata": {},
   "outputs": [
    {
     "name": "stdout",
     "output_type": "stream",
     "text": [
      "{'jan': 150, 'fev': 100, 'mar': 190, 'abr': 400, 'mai': 600, 'jun': 500}\n"
     ]
    }
   ],
   "source": [
    "vendas_mes = {'jan': 150, 'fev': 100, 'mar': 190}\n",
    "vendas_2tri = {'abr': 400, 'mai': 600, 'jun': 500}\n",
    "vendas_mes.update(vendas_2tri)\n",
    "print(vendas_mes)"
   ]
  },
  {
   "cell_type": "markdown",
   "metadata": {},
   "source": [
    "- values() -> Retorna uma lista com todos os valores do dicionários"
   ]
  },
  {
   "cell_type": "code",
   "execution_count": 16,
   "metadata": {},
   "outputs": [
    {
     "name": "stdout",
     "output_type": "stream",
     "text": [
      "[150, 100, 190]\n"
     ]
    }
   ],
   "source": [
    "vendas_mes = {'jan': 150, 'fev': 100, 'mar': 190}\n",
    "print(list(vendas_mes.values()))"
   ]
  }
 ],
 "metadata": {
  "kernelspec": {
   "display_name": "Python 3",
   "language": "python",
   "name": "python3"
  },
  "language_info": {
   "codemirror_mode": {
    "name": "ipython",
    "version": 3
   },
   "file_extension": ".py",
   "mimetype": "text/x-python",
   "name": "python",
   "nbconvert_exporter": "python",
   "pygments_lexer": "ipython3",
   "version": "3.8.3"
  }
 },
 "nbformat": 4,
 "nbformat_minor": 4
}

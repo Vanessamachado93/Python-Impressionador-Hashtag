{
 "cells": [
  {
   "cell_type": "markdown",
   "metadata": {},
   "source": [
    "# Tuplas\n",
    "\n",
    "### Estrutura:\n",
    "\n",
    "tupla = (valor, valor, valor, ...)\n",
    "\n",
    "### Diferença\n",
    "\n",
    "Parece uma lista, mas é imutável.\n",
    "\n",
    "### Vantagens:\n",
    "\n",
    "- Mais eficiente (em termos de performance)\n",
    "- Protege a base de dados (por ser imutável)\n",
    "- Muito usado para dados heterogêneos\n",
    "\n",
    "### Criando tuplas"
   ]
  },
  {
   "cell_type": "code",
   "execution_count": null,
   "metadata": {},
   "outputs": [],
   "source": [
    "vendas = ('Lira', '25/08/2020', '15/02/1994', 2000, 'Estagiário')\n",
    "print(vendas)"
   ]
  },
  {
   "cell_type": "markdown",
   "metadata": {},
   "source": [
    "### Acessando o valor de uma tupla"
   ]
  },
  {
   "cell_type": "code",
   "execution_count": null,
   "metadata": {},
   "outputs": [],
   "source": [
    "nome = vendas[0]\n",
    "data_contratacao = vendas[1]\n",
    "data_nascimento = vendas[2]\n",
    "salario = vendas[3]\n",
    "cargo = vendas[4]"
   ]
  },
  {
   "cell_type": "markdown",
   "metadata": {},
   "source": [
    "- o enumerate que vínhamos usando até agora, na verdade, cria uma tupla para a gente. Vamos ver na prática:"
   ]
  },
  {
   "cell_type": "code",
   "execution_count": null,
   "metadata": {},
   "outputs": [],
   "source": [
    "vendas = [1000, 2000, 300, 300, 150]\n",
    "funcionarios = ['João', 'Lira', 'Ana', 'Maria', 'Paula']\n",
    "\n",
    "for i, venda in enumerate(vendas):\n",
    "        print('{} vendeu {} unidades'.format(funcionarios[i], venda))"
   ]
  }
 ],
 "metadata": {
  "kernelspec": {
   "display_name": "Python 3",
   "language": "python",
   "name": "python3"
  },
  "language_info": {
   "codemirror_mode": {
    "name": "ipython",
    "version": 3
   },
   "file_extension": ".py",
   "mimetype": "text/x-python",
   "name": "python",
   "nbconvert_exporter": "python",
   "pygments_lexer": "ipython3",
   "version": "3.8.3"
  }
 },
 "nbformat": 4,
 "nbformat_minor": 4
}

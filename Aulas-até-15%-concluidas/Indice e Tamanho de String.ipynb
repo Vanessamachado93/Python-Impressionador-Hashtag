{
 "cells": [
  {
   "cell_type": "raw",
   "metadata": {},
   "source": [
    "0 1 2 3 4 5 6 7 8 9 10 11 12 13\n",
    "l i r a @ g m a i l  .  c  o m\n",
    "\n",
    "Pegar um item de uma string: texto[índice]\n",
    "Pegar o tamanho de um texto: len(texto)"
   ]
  },
  {
   "cell_type": "code",
   "execution_count": 3,
   "metadata": {},
   "outputs": [
    {
     "name": "stdout",
     "output_type": "stream",
     "text": [
      "14\n",
      "L\n"
     ]
    }
   ],
   "source": [
    "email = 'lira@gmail.com'\n",
    "nome = 'João Lira'\n",
    "\n",
    "print(len(email))\n",
    "print(nome[5])"
   ]
  }
 ],
 "metadata": {
  "kernelspec": {
   "display_name": "Python 3",
   "language": "python",
   "name": "python3"
  },
  "language_info": {
   "codemirror_mode": {
    "name": "ipython",
    "version": 3
   },
   "file_extension": ".py",
   "mimetype": "text/x-python",
   "name": "python",
   "nbconvert_exporter": "python",
   "pygments_lexer": "ipython3",
   "version": "3.10.6"
  },
  "vscode": {
   "interpreter": {
    "hash": "916dbcbb3f70747c44a77c7bcd40155683ae19c65e1c03b4aa3499c5328201f1"
   }
  }
 },
 "nbformat": 4,
 "nbformat_minor": 4
}

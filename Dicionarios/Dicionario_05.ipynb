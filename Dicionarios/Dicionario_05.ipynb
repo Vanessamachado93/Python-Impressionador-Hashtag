{
  "cells": [
    {
      "cell_type": "markdown",
      "metadata": {
        "id": "view-in-github",
        "colab_type": "text"
      },
      "source": [
        "<a href=\"https://colab.research.google.com/github/Vanessamachado93/Python-Impressionador-Hashtag/blob/main/Dicionario_05.ipynb\" target=\"_parent\"><img src=\"https://colab.research.google.com/assets/colab-badge.svg\" alt=\"Open In Colab\"/></a>"
      ]
    },
    {
      "cell_type": "markdown",
      "metadata": {
        "id": "iFV2JASooDmn"
      },
      "source": [
        "# Métodos úteis em dicionários\n",
        "\n",
        "## items() dos dicionários\n",
        "\n",
        "### Estrutura:"
      ]
    },
    {
      "cell_type": "raw",
      "metadata": {
        "id": "vvKgKeNGoDmq"
      },
      "source": [
        "itens_dicionario = dicionario.items()\n",
        "\n",
        "ou então:\n",
        "\n",
        "for item in dicionario.items()\n",
        "    cada item do dicionario em formato de tupla"
      ]
    },
    {
      "cell_type": "code",
      "execution_count": null,
      "metadata": {
        "id": "7Ia2bphwoDmq",
        "outputId": "33d84547-d51d-4ea9-e309-095951a81010"
      },
      "outputs": [
        {
          "name": "stdout",
          "output_type": "stream",
          "text": [
            "notebook asus: 2450 unidades\n",
            "iphone: 15000 unidades\n",
            "samsung galaxy: 12000 unidades\n",
            "tv samsung: 10000 unidades\n",
            "ps5: 14300 unidades\n",
            "tablet: 1720 unidades\n",
            "notebook dell: 17000 unidades\n",
            "ipad: 1000 unidades\n",
            "tv philco: 2500 unidades\n",
            "notebook hp: 1000 unidades\n"
          ]
        }
      ],
      "source": [
        "vendas_tecnologia = {'notebook asus': 2450, 'iphone': 15000, 'samsung galaxy': 12000, 'tv samsung': 10000, 'ps5': 14300, 'tablet': 1720, 'notebook dell': 17000, 'ipad': 1000, 'tv philco': 2500, 'notebook hp': 1000}\n",
        "\n",
        "for produto, qtde in vendas_tecnologia.items():\n",
        "    print('{}: {} unidades'.format(produto, qtde))"
      ]
    },
    {
      "cell_type": "markdown",
      "metadata": {
        "id": "Xkm5v_troDms"
      },
      "source": [
        "- Quais produtos venderam mais de 5000 unidades?"
      ]
    },
    {
      "cell_type": "code",
      "execution_count": null,
      "metadata": {
        "id": "__YixFAMoDmt",
        "outputId": "af654449-b507-40b8-a02c-9fe80aed1aba"
      },
      "outputs": [
        {
          "name": "stdout",
          "output_type": "stream",
          "text": [
            "iphone: 15000 unidades\n",
            "samsung galaxy: 12000 unidades\n",
            "tv samsung: 10000 unidades\n",
            "ps5: 14300 unidades\n",
            "notebook dell: 17000 unidades\n",
            "-------\n",
            "iphone: 15000 unidades\n",
            "samsung galaxy: 12000 unidades\n",
            "tv samsung: 10000 unidades\n",
            "ps5: 14300 unidades\n",
            "notebook dell: 17000 unidades\n"
          ]
        }
      ],
      "source": [
        "#forma 1 -> usando apenas o dicionario e as chaves\n",
        "for chave in vendas_tecnologia:\n",
        "    if vendas_tecnologia[chave] > 5000:\n",
        "        print('{}: {} unidades'.format(chave, vendas_tecnologia[chave]))\n",
        "\n",
        "print('-------')\n",
        "#forma 2 -> usando o dicionario.items()\n",
        "for produto, qtde in vendas_tecnologia.items():\n",
        "    if qtde > 5000:\n",
        "        print('{}: {} unidades'.format(produto, qtde))"
      ]
    },
    {
      "cell_type": "markdown",
      "metadata": {
        "id": "kUtF9Uf1oDmt"
      },
      "source": [
        "# Listas importantes a partir do Dicionário\n",
        "\n",
        "### Métodos importantes:\n",
        "\n",
        ".keys() -> uma \"lista\" com todas as chaves do dicionario\n",
        "\n",
        ".values() -> uma \"lista\" com todos os valores do dicionario\n",
        "\n",
        "Obs: Se o dicionario for modificado, automaticamente essas variáveis são modificadas, mesmo tendo sido criadas anteriormente"
      ]
    },
    {
      "cell_type": "code",
      "execution_count": null,
      "metadata": {
        "id": "O5ZJuvkioDmu",
        "outputId": "74e10746-096f-4ff4-ae4f-fff9d1425ae1"
      },
      "outputs": [
        {
          "name": "stdout",
          "output_type": "stream",
          "text": [
            "dict_keys(['notebook asus', 'iphone', 'samsung galaxy', 'tv samsung', 'ps5', 'tablet', 'notebook dell', 'ipad', 'tv philco', 'notebook hp', 'liraphone'])\n",
            "dict_values([2450, 15000, 12000, 10000, 14300, 1720, 17000, 1000, 2500, 1000, 10])\n"
          ]
        }
      ],
      "source": [
        "chaves = vendas_tecnologia.keys()\n",
        "valores = vendas_tecnologia.values()\n",
        "print(chaves)\n",
        "print(valores)"
      ]
    },
    {
      "cell_type": "code",
      "execution_count": null,
      "metadata": {
        "id": "O1Wvm9jXoDmu",
        "outputId": "cc1d6f6f-3caf-45d2-fbf7-86477b75bb4b"
      },
      "outputs": [
        {
          "name": "stdout",
          "output_type": "stream",
          "text": [
            "dict_values([2450, 15000, 12000, 10000, 14300, 1720, 17000, 1000, 2500, 1000, 10])\n",
            "[2450, 15000, 12000, 10000, 14300, 1720, 17000, 1000, 2500, 1000, 10]\n"
          ]
        }
      ],
      "source": [
        "vendas_tecnologia['liraphone'] = 10\n",
        "#print(chaves)\n",
        "print(valores)\n",
        "#print(list(chaves))\n",
        "print(list(valores))"
      ]
    },
    {
      "cell_type": "markdown",
      "metadata": {
        "id": "seasQuCzoDmv"
      },
      "source": [
        "### O for vai funcionar normal em dict_listas, porque não deixa de ser uma lista de itens que pode ser percorrida (iterable), mas o que aprendemos de lista não necessariamente se aplicam a essas dict_listas.\n",
        "\n",
        "Para transformar as dict_listas em listas normais, usamos a função list:\n",
        "\n",
        "- lista_chaves = list(dicionario.keys())"
      ]
    },
    {
      "cell_type": "markdown",
      "metadata": {
        "id": "svrR9g1KoDmv"
      },
      "source": [
        "- Pode ser útil caso a gente queira fazer alguma organização das chaves. Ex: Imprimir uma lista com os valores em ordem alfabética, de forma que todas as tvs fiquem juntas, todos os iphone/ipad também e assim vai:"
      ]
    },
    {
      "cell_type": "code",
      "execution_count": null,
      "metadata": {
        "id": "tQIaALkjoDmv",
        "outputId": "74ad9c05-d0b4-418d-f019-f21ff1829ccf"
      },
      "outputs": [
        {
          "name": "stdout",
          "output_type": "stream",
          "text": [
            "notebook asus: 2450 unidades\n",
            "iphone: 15000 unidades\n",
            "samsung galaxy: 12000 unidades\n",
            "tv samsung: 10000 unidades\n",
            "ps5: 14300 unidades\n",
            "tablet: 1720 unidades\n",
            "notebook dell: 17000 unidades\n",
            "ipad: 1000 unidades\n",
            "tv philco: 2500 unidades\n",
            "notebook hp: 1000 unidades\n",
            "liraphone: 10 unidades\n",
            "----------------------------------------\n",
            "ipad: 1000 unidades\n",
            "iphone: 15000 unidades\n",
            "liraphone: 10 unidades\n",
            "notebook asus: 2450 unidades\n",
            "notebook dell: 17000 unidades\n",
            "notebook hp: 1000 unidades\n",
            "ps5: 14300 unidades\n",
            "samsung galaxy: 12000 unidades\n",
            "tablet: 1720 unidades\n",
            "tv philco: 2500 unidades\n",
            "tv samsung: 10000 unidades\n"
          ]
        }
      ],
      "source": [
        "for chave in vendas_tecnologia:\n",
        "     print('{}: {} unidades'.format(chave, vendas_tecnologia[chave]))\n",
        "print('-' * 40)\n",
        "\n",
        "#agora se quisermos organizar isso, fazemos:\n",
        "lista_chaves = list(chaves)\n",
        "lista_chaves.sort()\n",
        "\n",
        "for chave in lista_chaves:\n",
        "    print('{}: {} unidades'.format(chave, vendas_tecnologia[chave]))"
      ]
    }
  ],
  "metadata": {
    "kernelspec": {
      "display_name": "Python 3",
      "language": "python",
      "name": "python3"
    },
    "language_info": {
      "codemirror_mode": {
        "name": "ipython",
        "version": 3
      },
      "file_extension": ".py",
      "mimetype": "text/x-python",
      "name": "python",
      "nbconvert_exporter": "python",
      "pygments_lexer": "ipython3",
      "version": "3.8.3"
    },
    "colab": {
      "provenance": [],
      "include_colab_link": true
    }
  },
  "nbformat": 4,
  "nbformat_minor": 0
}
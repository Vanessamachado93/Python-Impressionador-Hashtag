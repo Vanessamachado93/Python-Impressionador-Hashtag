{
  "cells": [
    {
      "cell_type": "markdown",
      "metadata": {
        "id": "view-in-github",
        "colab_type": "text"
      },
      "source": [
        "<a href=\"https://colab.research.google.com/github/Vanessamachado93/Python-Impressionador-Hashtag/blob/main/Dicionario_06.ipynb\" target=\"_parent\"><img src=\"https://colab.research.google.com/assets/colab-badge.svg\" alt=\"Open In Colab\"/></a>"
      ]
    },
    {
      "cell_type": "markdown",
      "metadata": {
        "id": "5FOnayHZolZo"
      },
      "source": [
        "# Transformando Listas em Dicionários e Function zip\n",
        "\n",
        "### Estrutura:\n",
        "\n",
        "- Dicionário com valores padrões:\n",
        "\n",
        "dicionario = dict.fromkeys(lista_chaves, valor_padrao)\n",
        "\n",
        "- Dicionário a partir de listas de tuplas:\n",
        "\n",
        "dicionario = dict(lista_tuplas)\n",
        "\n",
        "- Dicionário a partir de 2 listas:\n",
        "\n",
        "Passo 1: Transformar listas em lista de tuplas com o método zip<br>\n",
        "Passo 2: Transformar em dicionario\n",
        "\n",
        "lista_tuplas = zip(lista1, lista2)<br>\n",
        "dicionario = dict(lista_tuplas)"
      ]
    },
    {
      "cell_type": "code",
      "execution_count": null,
      "metadata": {
        "id": "jUjsO6TBolZr",
        "outputId": "d55131b8-901d-473f-baac-df195329f960"
      },
      "outputs": [
        {
          "name": "stdout",
          "output_type": "stream",
          "text": [
            "{'iphone': 15000, 'samsung galaxy': 12000, 'tv samsung': 10000, 'ps5': 14300, 'tablet': 1720, 'ipad': 1000, 'tv philco': 2500, 'notebook hp': 1000, 'notebook dell': 17000, 'notebook asus': 2450}\n"
          ]
        }
      ],
      "source": [
        "produtos = ['iphone', 'samsung galaxy', 'tv samsung', 'ps5', 'tablet', 'ipad', 'tv philco', 'notebook hp', 'notebook dell', 'notebook asus']\n",
        "vendas = [15000, 12000, 10000, 14300, 1720, 1000, 2500, 1000, 17000, 2450]\n",
        "\n",
        "lista_tuplas = zip(produtos, vendas)\n",
        "dicionario_vendas = dict(lista_tuplas)\n",
        "print(dicionario_vendas)\n"
      ]
    },
    {
      "cell_type": "markdown",
      "metadata": {
        "id": "VilmJr-golZu"
      },
      "source": [
        "- Quanto vendemos de ipad?"
      ]
    },
    {
      "cell_type": "code",
      "execution_count": null,
      "metadata": {
        "id": "O9Nf8CEVolZu",
        "outputId": "5212ff51-9e37-4d64-da04-910a667b5e4b"
      },
      "outputs": [
        {
          "name": "stdout",
          "output_type": "stream",
          "text": [
            "Vendemos 1000 ipads\n",
            "Vendemos 1000 ipads\n"
          ]
        }
      ],
      "source": [
        "#fazendo por listas\n",
        "indice = produtos.index('ipad')\n",
        "print('Vendemos {} ipads'.format(vendas[indice]))\n",
        "\n",
        "#fazendo por dicionario\n",
        "print('Vendemos {} ipads'.format(dicionario_vendas['ipad']))"
      ]
    }
  ],
  "metadata": {
    "kernelspec": {
      "display_name": "Python 3",
      "language": "python",
      "name": "python3"
    },
    "language_info": {
      "codemirror_mode": {
        "name": "ipython",
        "version": 3
      },
      "file_extension": ".py",
      "mimetype": "text/x-python",
      "name": "python",
      "nbconvert_exporter": "python",
      "pygments_lexer": "ipython3",
      "version": "3.8.3"
    },
    "colab": {
      "provenance": [],
      "include_colab_link": true
    }
  },
  "nbformat": 4,
  "nbformat_minor": 0
}
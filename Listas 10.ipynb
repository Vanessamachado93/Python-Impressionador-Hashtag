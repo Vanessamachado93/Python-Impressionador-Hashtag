{
 "cells": [
  {
   "cell_type": "markdown",
   "metadata": {},
   "source": [
    "# Listas de Listas\n",
    "\n",
    "### Estrutura:\n",
    "\n",
    "Cada item de uma lista pode ser qualquer tipo de variável. Inclusive, uma lista.\n",
    "\n",
    "Quando dentro de uma lista temos cada item como sendo uma outra lista, temos uma \"nested list\", ou seja, uma lista de listas.\n",
    "\n",
    "Todas as regras de lista e tudo que vimos até agora funciona exatamente igual, mas vamos ver como isso funciona na prática"
   ]
  },
  {
   "cell_type": "code",
   "execution_count": 16,
   "metadata": {},
   "outputs": [],
   "source": [
    "vendedores = ['Lira', 'João', 'Diego', 'Alon']\n",
    "produtos = ['ipad', 'iphone']\n",
    "vendas = [\n",
    "    [100, 200],\n",
    "    [300, 500],\n",
    "    [50, 1000],\n",
    "    [900, 10],\n",
    "]"
   ]
  },
  {
   "cell_type": "markdown",
   "metadata": {},
   "source": [
    "- Quanto João vendeu de IPad?\n",
    "- Quanto Diego vendeu de IPhone\n",
    "- Qual o total de vendas de IPhone?"
   ]
  },
  {
   "cell_type": "code",
   "execution_count": 17,
   "metadata": {},
   "outputs": [
    {
     "name": "stdout",
     "output_type": "stream",
     "text": [
      "300\n",
      "1000\n",
      "1710\n"
     ]
    }
   ],
   "source": [
    "vendas_ipad_joao = vendas[1][0]\n",
    "print(vendas_ipad_joao)\n",
    "\n",
    "vendas_iphone_diego = vendas[2][1]\n",
    "print(vendas_iphone_diego)\n",
    "\n",
    "vendas_iphone = vendas[0][1] + vendas[1][1] + vendas[2][1] + vendas[3][1]\n",
    "\n",
    "print(vendas_iphone)"
   ]
  },
  {
   "cell_type": "markdown",
   "metadata": {},
   "source": [
    "- E se Lira na verdade fez apenas 50 vendas de IPhone, como eu modifico na minha lista o valor de vendas dele?"
   ]
  },
  {
   "cell_type": "code",
   "execution_count": 20,
   "metadata": {},
   "outputs": [
    {
     "name": "stdout",
     "output_type": "stream",
     "text": [
      "[[100, 50, 10], [300, 500], [50, 1000], [900, 10]]\n"
     ]
    }
   ],
   "source": [
    "vendas[0][1] = 50\n",
    "print(vendas)"
   ]
  },
  {
   "cell_type": "markdown",
   "metadata": {},
   "source": [
    "- E se agora eu tenho um novo produto 'mac', como eu adiciono as vendas em cada um dos vendedores?"
   ]
  },
  {
   "cell_type": "code",
   "execution_count": 21,
   "metadata": {},
   "outputs": [
    {
     "name": "stdout",
     "output_type": "stream",
     "text": [
      "[[100, 50, 10, 10], [300, 500, 15], [50, 1000, 6], [900, 10, 70]]\n"
     ]
    }
   ],
   "source": [
    "venda_mac = [10, 15, 6, 70]\n",
    "vendas[0].append(venda_mac[0])\n",
    "vendas[1].append(venda_mac[1])\n",
    "vendas[2].append(venda_mac[2])\n",
    "vendas[3].append(venda_mac[3])\n",
    "print(vendas)"
   ]
  }
 ],
 "metadata": {
  "kernelspec": {
   "display_name": "Python 3",
   "language": "python",
   "name": "python3"
  },
  "language_info": {
   "codemirror_mode": {
    "name": "ipython",
    "version": 3
   },
   "file_extension": ".py",
   "mimetype": "text/x-python",
   "name": "python",
   "nbconvert_exporter": "python",
   "pygments_lexer": "ipython3",
   "version": "3.10.6"
  },
  "vscode": {
   "interpreter": {
    "hash": "916dbcbb3f70747c44a77c7bcd40155683ae19c65e1c03b4aa3499c5328201f1"
   }
  }
 },
 "nbformat": 4,
 "nbformat_minor": 4
}
